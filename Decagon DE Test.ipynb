{
 "cells": [
  {
   "cell_type": "markdown",
   "id": "d8aac7bb",
   "metadata": {
    "tags": []
   },
   "source": [
    "## <center> DECAGON TEST </center> \n",
    "<hr />\n",
    "1. Create an ETL workflow that brings the data into an SQL database. \n",
    "    - You can use Postgres or MySQL. We plan to have a database that contains all **continents, countries, currencies, and languages. (continents, countries, currencies, languages should all be in a different table)**\n",
    "    \n",
    "    \n",
    "\n",
    "2. With the data in the database, create the following reports using SQL.\n",
    "    - List all the continents and the total number of countries in each. \n",
    "    For example, Africa 100, Europe 10, etc. The continent's name and country\n",
    "    - List all the languages and commas separated countries that speak thelanguage.\n",
    "    - List all the countries and the total number of languages spoken."
   ]
  },
  {
   "cell_type": "markdown",
   "id": "9191ecc3-1cbe-416c-b23f-0124faf0056b",
   "metadata": {
    "tags": []
   },
   "source": [
    "## <center> WORKSPACE </center> "
   ]
  },
  {
   "cell_type": "markdown",
   "id": "11a7e6b2",
   "metadata": {},
   "source": [
    "<hr />"
   ]
  },
  {
   "cell_type": "markdown",
   "id": "574b83d1-08bb-4f01-9cab-fe02f81e4561",
   "metadata": {},
   "source": [
    "### DATA SOURCES"
   ]
  },
  {
   "cell_type": "code",
   "execution_count": 1,
   "id": "2cab3357",
   "metadata": {},
   "outputs": [],
   "source": [
    "# data sources\n",
    "countries_json = 'https://raw.githubusercontent.com/annexare/Countries/master/data/countries.json'\n",
    "continent_json = 'https://raw.githubusercontent.com/annexare/Countries/master/data/continents.json'\n",
    "languages_json = 'https://raw.githubusercontent.com/annexare/Countries/master/data/languages.json'\n",
    "countries_iso2_to_iso3_json = 'https://raw.githubusercontent.com/annexare/Countries/master/data/countries.2to3.json'"
   ]
  },
  {
   "cell_type": "markdown",
   "id": "106614bf",
   "metadata": {},
   "source": [
    "#### Import Necessary Modules"
   ]
  },
  {
   "cell_type": "code",
   "execution_count": 2,
   "id": "838cb430",
   "metadata": {},
   "outputs": [],
   "source": [
    "import pandas as pd\n",
    "from sqlalchemy import create_engine"
   ]
  },
  {
   "cell_type": "markdown",
   "id": "0d140c7e",
   "metadata": {},
   "source": [
    "### EXTRACT & TRANSFORMATION OF DATA `E-T`"
   ]
  },
  {
   "cell_type": "markdown",
   "id": "2764cd57",
   "metadata": {},
   "source": [
    "#### Writing Function to Perform `ET` on Countries Data"
   ]
  },
  {
   "cell_type": "code",
   "execution_count": 3,
   "id": "d2aaed6b",
   "metadata": {},
   "outputs": [],
   "source": [
    "# Extracting and transforming Countries Data\n",
    "def extract_and_transform_countries_data():\n",
    "    countries_df = pd.read_json(countries_json)\n",
    "\n",
    "    countries_df = countries_df.T\n",
    "\n",
    "    countries_df.reset_index(inplace = True)\n",
    "\n",
    "    countries_df.rename(columns = {'index':'iso2Code', \n",
    "                                   'native':'nativeName', \n",
    "                                   'currency':'currencyCode', \n",
    "                                   'languages':'languageCode',\n",
    "                                   'phone':'phoneCode',\n",
    "                                   'continent':'continentCode'}, inplace = True)\n",
    "    \n",
    "    countries_df['currencyCode'] = [','.join(i) if isinstance(i, list) else i for i in countries_df['currencyCode']]\n",
    "\n",
    "    countries_df['languageCode'] = [','.join(i) if isinstance(i, list) else i for i in countries_df['languageCode']]\n",
    "\n",
    "    countries_df['phoneCode'] = [i[0] for i in countries_df['phoneCode']]\n",
    "    \n",
    "    countries_df.drop(['continents'], axis=1, inplace = True)\n",
    "    \n",
    "    return countries_df\n",
    "\n",
    "def extract_and_transform_countries_iso2_to_iso3_data():\n",
    "    countries_iso2_to_iso3_df = pd.read_json(countries_iso2_to_iso3_json, typ='series')\n",
    "\n",
    "    countries_iso2_to_iso3_df = countries_iso2_to_iso3_df.to_frame()\n",
    "\n",
    "    countries_iso2_to_iso3_df.reset_index(inplace = True)\n",
    "\n",
    "    countries_iso2_to_iso3_df.rename(columns = {'index':'iso2Code',0:'iso3Code' }, inplace = True)\n",
    "    \n",
    "    countries_new_df = extract_and_transform_countries_data()\n",
    "    \n",
    "    # append iso3Code to countries table from countries_iso2_to_iso3_df\n",
    "    \n",
    "    countries_new_df = pd.merge(countries_new_df, countries_iso2_to_iso3_df, on ='iso2Code')\n",
    "    \n",
    "    fields = ['name', 'capital','nativeName','iso2Code', \n",
    "           'iso3Code', 'phoneCode', 'continentCode','currencyCode','languageCode']\n",
    "    \n",
    "    countries_new_df = countries_new_df[fields]\n",
    "    \n",
    "    return countries_new_df"
   ]
  },
  {
   "cell_type": "markdown",
   "id": "a5ba0f62",
   "metadata": {},
   "source": [
    "#### Testing Function "
   ]
  },
  {
   "cell_type": "code",
   "execution_count": 4,
   "id": "4289d6f6",
   "metadata": {
    "scrolled": true
   },
   "outputs": [
    {
     "data": {
      "text/html": [
       "<div>\n",
       "<style scoped>\n",
       "    .dataframe tbody tr th:only-of-type {\n",
       "        vertical-align: middle;\n",
       "    }\n",
       "\n",
       "    .dataframe tbody tr th {\n",
       "        vertical-align: top;\n",
       "    }\n",
       "\n",
       "    .dataframe thead th {\n",
       "        text-align: right;\n",
       "    }\n",
       "</style>\n",
       "<table border=\"1\" class=\"dataframe\">\n",
       "  <thead>\n",
       "    <tr style=\"text-align: right;\">\n",
       "      <th></th>\n",
       "      <th>name</th>\n",
       "      <th>capital</th>\n",
       "      <th>nativeName</th>\n",
       "      <th>iso2Code</th>\n",
       "      <th>iso3Code</th>\n",
       "      <th>phoneCode</th>\n",
       "      <th>continentCode</th>\n",
       "      <th>currencyCode</th>\n",
       "      <th>languageCode</th>\n",
       "    </tr>\n",
       "  </thead>\n",
       "  <tbody>\n",
       "    <tr>\n",
       "      <th>0</th>\n",
       "      <td>Andorra</td>\n",
       "      <td>Andorra la Vella</td>\n",
       "      <td>Andorra</td>\n",
       "      <td>AD</td>\n",
       "      <td>AND</td>\n",
       "      <td>376</td>\n",
       "      <td>EU</td>\n",
       "      <td>EUR</td>\n",
       "      <td>ca</td>\n",
       "    </tr>\n",
       "    <tr>\n",
       "      <th>1</th>\n",
       "      <td>United Arab Emirates</td>\n",
       "      <td>Abu Dhabi</td>\n",
       "      <td>دولة الإمارات العربية المتحدة</td>\n",
       "      <td>AE</td>\n",
       "      <td>ARE</td>\n",
       "      <td>971</td>\n",
       "      <td>AS</td>\n",
       "      <td>AED</td>\n",
       "      <td>ar</td>\n",
       "    </tr>\n",
       "    <tr>\n",
       "      <th>2</th>\n",
       "      <td>Afghanistan</td>\n",
       "      <td>Kabul</td>\n",
       "      <td>افغانستان</td>\n",
       "      <td>AF</td>\n",
       "      <td>AFG</td>\n",
       "      <td>93</td>\n",
       "      <td>AS</td>\n",
       "      <td>AFN</td>\n",
       "      <td>ps,uz,tk</td>\n",
       "    </tr>\n",
       "    <tr>\n",
       "      <th>3</th>\n",
       "      <td>Antigua and Barbuda</td>\n",
       "      <td>Saint John's</td>\n",
       "      <td>Antigua and Barbuda</td>\n",
       "      <td>AG</td>\n",
       "      <td>ATG</td>\n",
       "      <td>1268</td>\n",
       "      <td>NA</td>\n",
       "      <td>XCD</td>\n",
       "      <td>en</td>\n",
       "    </tr>\n",
       "    <tr>\n",
       "      <th>4</th>\n",
       "      <td>Anguilla</td>\n",
       "      <td>The Valley</td>\n",
       "      <td>Anguilla</td>\n",
       "      <td>AI</td>\n",
       "      <td>AIA</td>\n",
       "      <td>1264</td>\n",
       "      <td>NA</td>\n",
       "      <td>XCD</td>\n",
       "      <td>en</td>\n",
       "    </tr>\n",
       "    <tr>\n",
       "      <th>...</th>\n",
       "      <td>...</td>\n",
       "      <td>...</td>\n",
       "      <td>...</td>\n",
       "      <td>...</td>\n",
       "      <td>...</td>\n",
       "      <td>...</td>\n",
       "      <td>...</td>\n",
       "      <td>...</td>\n",
       "      <td>...</td>\n",
       "    </tr>\n",
       "    <tr>\n",
       "      <th>245</th>\n",
       "      <td>Yemen</td>\n",
       "      <td>Sana'a</td>\n",
       "      <td>اليَمَن</td>\n",
       "      <td>YE</td>\n",
       "      <td>YEM</td>\n",
       "      <td>967</td>\n",
       "      <td>AS</td>\n",
       "      <td>YER</td>\n",
       "      <td>ar</td>\n",
       "    </tr>\n",
       "    <tr>\n",
       "      <th>246</th>\n",
       "      <td>Mayotte</td>\n",
       "      <td>Mamoudzou</td>\n",
       "      <td>Mayotte</td>\n",
       "      <td>YT</td>\n",
       "      <td>MYT</td>\n",
       "      <td>262</td>\n",
       "      <td>AF</td>\n",
       "      <td>EUR</td>\n",
       "      <td>fr</td>\n",
       "    </tr>\n",
       "    <tr>\n",
       "      <th>247</th>\n",
       "      <td>South Africa</td>\n",
       "      <td>Pretoria</td>\n",
       "      <td>South Africa</td>\n",
       "      <td>ZA</td>\n",
       "      <td>ZAF</td>\n",
       "      <td>27</td>\n",
       "      <td>AF</td>\n",
       "      <td>ZAR</td>\n",
       "      <td>af,en,nr,st,ss,tn,ts,ve,xh,zu</td>\n",
       "    </tr>\n",
       "    <tr>\n",
       "      <th>248</th>\n",
       "      <td>Zambia</td>\n",
       "      <td>Lusaka</td>\n",
       "      <td>Zambia</td>\n",
       "      <td>ZM</td>\n",
       "      <td>ZMB</td>\n",
       "      <td>260</td>\n",
       "      <td>AF</td>\n",
       "      <td>ZMW</td>\n",
       "      <td>en</td>\n",
       "    </tr>\n",
       "    <tr>\n",
       "      <th>249</th>\n",
       "      <td>Zimbabwe</td>\n",
       "      <td>Harare</td>\n",
       "      <td>Zimbabwe</td>\n",
       "      <td>ZW</td>\n",
       "      <td>ZWE</td>\n",
       "      <td>263</td>\n",
       "      <td>AF</td>\n",
       "      <td>USD,ZAR,BWP,GBP,AUD,CNY,INR,JPY</td>\n",
       "      <td>en,sn,nd</td>\n",
       "    </tr>\n",
       "  </tbody>\n",
       "</table>\n",
       "<p>250 rows × 9 columns</p>\n",
       "</div>"
      ],
      "text/plain": [
       "                     name           capital                     nativeName  \\\n",
       "0                 Andorra  Andorra la Vella                        Andorra   \n",
       "1    United Arab Emirates         Abu Dhabi  دولة الإمارات العربية المتحدة   \n",
       "2             Afghanistan             Kabul                      افغانستان   \n",
       "3     Antigua and Barbuda      Saint John's            Antigua and Barbuda   \n",
       "4                Anguilla        The Valley                       Anguilla   \n",
       "..                    ...               ...                            ...   \n",
       "245                 Yemen            Sana'a                        اليَمَن   \n",
       "246               Mayotte         Mamoudzou                        Mayotte   \n",
       "247          South Africa          Pretoria                   South Africa   \n",
       "248                Zambia            Lusaka                         Zambia   \n",
       "249              Zimbabwe            Harare                       Zimbabwe   \n",
       "\n",
       "    iso2Code iso3Code  phoneCode continentCode  \\\n",
       "0         AD      AND        376            EU   \n",
       "1         AE      ARE        971            AS   \n",
       "2         AF      AFG         93            AS   \n",
       "3         AG      ATG       1268            NA   \n",
       "4         AI      AIA       1264            NA   \n",
       "..       ...      ...        ...           ...   \n",
       "245       YE      YEM        967            AS   \n",
       "246       YT      MYT        262            AF   \n",
       "247       ZA      ZAF         27            AF   \n",
       "248       ZM      ZMB        260            AF   \n",
       "249       ZW      ZWE        263            AF   \n",
       "\n",
       "                        currencyCode                   languageCode  \n",
       "0                                EUR                             ca  \n",
       "1                                AED                             ar  \n",
       "2                                AFN                       ps,uz,tk  \n",
       "3                                XCD                             en  \n",
       "4                                XCD                             en  \n",
       "..                               ...                            ...  \n",
       "245                              YER                             ar  \n",
       "246                              EUR                             fr  \n",
       "247                              ZAR  af,en,nr,st,ss,tn,ts,ve,xh,zu  \n",
       "248                              ZMW                             en  \n",
       "249  USD,ZAR,BWP,GBP,AUD,CNY,INR,JPY                       en,sn,nd  \n",
       "\n",
       "[250 rows x 9 columns]"
      ]
     },
     "execution_count": 4,
     "metadata": {},
     "output_type": "execute_result"
    }
   ],
   "source": [
    "extract_and_transform_countries_iso2_to_iso3_data()"
   ]
  },
  {
   "cell_type": "markdown",
   "id": "e5a74422",
   "metadata": {},
   "source": [
    "#### Writing Function to Perform `ET` on Continents Data"
   ]
  },
  {
   "cell_type": "code",
   "execution_count": 5,
   "id": "808b1c74",
   "metadata": {},
   "outputs": [],
   "source": [
    "# Extracting and transforming continents Table\n",
    "def extract_and_transform_continents_data():\n",
    "    continents_df = pd.read_json(continent_json, typ='series')\n",
    "\n",
    "    continents_df = continents_df.to_frame()\n",
    "\n",
    "    continents_df.reset_index(inplace = True)\n",
    "\n",
    "    continents_df.rename(columns = {'index':'code',0:'name' }, inplace = True)\n",
    "    \n",
    "    return continents_df"
   ]
  },
  {
   "cell_type": "markdown",
   "id": "347ec0db",
   "metadata": {},
   "source": [
    "#### Testing Function "
   ]
  },
  {
   "cell_type": "code",
   "execution_count": 6,
   "id": "ca4650fd",
   "metadata": {},
   "outputs": [
    {
     "data": {
      "text/html": [
       "<div>\n",
       "<style scoped>\n",
       "    .dataframe tbody tr th:only-of-type {\n",
       "        vertical-align: middle;\n",
       "    }\n",
       "\n",
       "    .dataframe tbody tr th {\n",
       "        vertical-align: top;\n",
       "    }\n",
       "\n",
       "    .dataframe thead th {\n",
       "        text-align: right;\n",
       "    }\n",
       "</style>\n",
       "<table border=\"1\" class=\"dataframe\">\n",
       "  <thead>\n",
       "    <tr style=\"text-align: right;\">\n",
       "      <th></th>\n",
       "      <th>code</th>\n",
       "      <th>name</th>\n",
       "    </tr>\n",
       "  </thead>\n",
       "  <tbody>\n",
       "    <tr>\n",
       "      <th>0</th>\n",
       "      <td>AF</td>\n",
       "      <td>Africa</td>\n",
       "    </tr>\n",
       "    <tr>\n",
       "      <th>1</th>\n",
       "      <td>AN</td>\n",
       "      <td>Antarctica</td>\n",
       "    </tr>\n",
       "    <tr>\n",
       "      <th>2</th>\n",
       "      <td>AS</td>\n",
       "      <td>Asia</td>\n",
       "    </tr>\n",
       "    <tr>\n",
       "      <th>3</th>\n",
       "      <td>EU</td>\n",
       "      <td>Europe</td>\n",
       "    </tr>\n",
       "    <tr>\n",
       "      <th>4</th>\n",
       "      <td>NA</td>\n",
       "      <td>North America</td>\n",
       "    </tr>\n",
       "    <tr>\n",
       "      <th>5</th>\n",
       "      <td>OC</td>\n",
       "      <td>Oceania</td>\n",
       "    </tr>\n",
       "    <tr>\n",
       "      <th>6</th>\n",
       "      <td>SA</td>\n",
       "      <td>South America</td>\n",
       "    </tr>\n",
       "  </tbody>\n",
       "</table>\n",
       "</div>"
      ],
      "text/plain": [
       "  code           name\n",
       "0   AF         Africa\n",
       "1   AN     Antarctica\n",
       "2   AS           Asia\n",
       "3   EU         Europe\n",
       "4   NA  North America\n",
       "5   OC        Oceania\n",
       "6   SA  South America"
      ]
     },
     "execution_count": 6,
     "metadata": {},
     "output_type": "execute_result"
    }
   ],
   "source": [
    "# Visualize Continent Table\n",
    "extract_and_transform_continents_data()"
   ]
  },
  {
   "cell_type": "markdown",
   "id": "eff50932",
   "metadata": {},
   "source": [
    "#### Writing Function to Perform `ET` on Languages Data"
   ]
  },
  {
   "cell_type": "code",
   "execution_count": 7,
   "id": "f6ff39d0",
   "metadata": {},
   "outputs": [],
   "source": [
    "def extract_and_transform_language_data():\n",
    "    languages_df = pd.read_json(languages_json)\n",
    "\n",
    "    languages_df = languages_df.T\n",
    "\n",
    "    languages_df.reset_index(inplace = True)\n",
    "\n",
    "    languages_df.rename(columns = {'index':'code', 'native':'nativeName'}, inplace = True)\n",
    "    \n",
    "    languages_df.drop('rtl',axis=1, inplace = True)\n",
    "\n",
    "    return languages_df"
   ]
  },
  {
   "cell_type": "markdown",
   "id": "e00d57a0",
   "metadata": {},
   "source": [
    "#### Testing Function "
   ]
  },
  {
   "cell_type": "code",
   "execution_count": 8,
   "id": "d9198b9d",
   "metadata": {
    "scrolled": true
   },
   "outputs": [
    {
     "data": {
      "text/html": [
       "<div>\n",
       "<style scoped>\n",
       "    .dataframe tbody tr th:only-of-type {\n",
       "        vertical-align: middle;\n",
       "    }\n",
       "\n",
       "    .dataframe tbody tr th {\n",
       "        vertical-align: top;\n",
       "    }\n",
       "\n",
       "    .dataframe thead th {\n",
       "        text-align: right;\n",
       "    }\n",
       "</style>\n",
       "<table border=\"1\" class=\"dataframe\">\n",
       "  <thead>\n",
       "    <tr style=\"text-align: right;\">\n",
       "      <th></th>\n",
       "      <th>code</th>\n",
       "      <th>name</th>\n",
       "      <th>nativeName</th>\n",
       "    </tr>\n",
       "  </thead>\n",
       "  <tbody>\n",
       "    <tr>\n",
       "      <th>0</th>\n",
       "      <td>aa</td>\n",
       "      <td>Afar</td>\n",
       "      <td>Afar</td>\n",
       "    </tr>\n",
       "    <tr>\n",
       "      <th>1</th>\n",
       "      <td>ab</td>\n",
       "      <td>Abkhazian</td>\n",
       "      <td>Аҧсуа</td>\n",
       "    </tr>\n",
       "    <tr>\n",
       "      <th>2</th>\n",
       "      <td>af</td>\n",
       "      <td>Afrikaans</td>\n",
       "      <td>Afrikaans</td>\n",
       "    </tr>\n",
       "    <tr>\n",
       "      <th>3</th>\n",
       "      <td>ak</td>\n",
       "      <td>Akan</td>\n",
       "      <td>Akana</td>\n",
       "    </tr>\n",
       "    <tr>\n",
       "      <th>4</th>\n",
       "      <td>am</td>\n",
       "      <td>Amharic</td>\n",
       "      <td>አማርኛ</td>\n",
       "    </tr>\n",
       "    <tr>\n",
       "      <th>...</th>\n",
       "      <td>...</td>\n",
       "      <td>...</td>\n",
       "      <td>...</td>\n",
       "    </tr>\n",
       "    <tr>\n",
       "      <th>180</th>\n",
       "      <td>yi</td>\n",
       "      <td>Yiddish</td>\n",
       "      <td>ייִדיש</td>\n",
       "    </tr>\n",
       "    <tr>\n",
       "      <th>181</th>\n",
       "      <td>yo</td>\n",
       "      <td>Yoruba</td>\n",
       "      <td>Yorùbá</td>\n",
       "    </tr>\n",
       "    <tr>\n",
       "      <th>182</th>\n",
       "      <td>za</td>\n",
       "      <td>Zhuang</td>\n",
       "      <td>Cuengh / Tôô / 壮语</td>\n",
       "    </tr>\n",
       "    <tr>\n",
       "      <th>183</th>\n",
       "      <td>zh</td>\n",
       "      <td>Chinese</td>\n",
       "      <td>中文</td>\n",
       "    </tr>\n",
       "    <tr>\n",
       "      <th>184</th>\n",
       "      <td>zu</td>\n",
       "      <td>Zulu</td>\n",
       "      <td>isiZulu</td>\n",
       "    </tr>\n",
       "  </tbody>\n",
       "</table>\n",
       "<p>185 rows × 3 columns</p>\n",
       "</div>"
      ],
      "text/plain": [
       "    code       name         nativeName\n",
       "0     aa       Afar               Afar\n",
       "1     ab  Abkhazian              Аҧсуа\n",
       "2     af  Afrikaans          Afrikaans\n",
       "3     ak       Akan              Akana\n",
       "4     am    Amharic               አማርኛ\n",
       "..   ...        ...                ...\n",
       "180   yi    Yiddish             ייִדיש\n",
       "181   yo     Yoruba             Yorùbá\n",
       "182   za     Zhuang  Cuengh / Tôô / 壮语\n",
       "183   zh    Chinese                 中文\n",
       "184   zu       Zulu            isiZulu\n",
       "\n",
       "[185 rows x 3 columns]"
      ]
     },
     "execution_count": 8,
     "metadata": {},
     "output_type": "execute_result"
    }
   ],
   "source": [
    "# Visualize Language Table\n",
    "extract_and_transform_language_data()"
   ]
  },
  {
   "cell_type": "markdown",
   "id": "1eaded9d",
   "metadata": {},
   "source": [
    "#### Writing Function to Perform `ET` on Currency Data"
   ]
  },
  {
   "cell_type": "code",
   "execution_count": 9,
   "id": "d9d04334",
   "metadata": {},
   "outputs": [],
   "source": [
    "# Extracting and transforming Currency Table\n",
    "def extract_and_transform_currency_data():\n",
    "    \n",
    "    countries_df = extract_and_transform_countries_iso2_to_iso3_data()\n",
    "    \n",
    "    currency_data = countries_df[['iso2Code','currencyCode']].copy()\n",
    "\n",
    "    currency_data = currency_data.explode('currencyCode')\n",
    "\n",
    "    currency_data = currency_data.explode('currencyCode')\n",
    "\n",
    "    currency_data = currency_data.groupby('currencyCode')['iso2Code'].apply(list)\n",
    "\n",
    "    currency_data = currency_data.to_frame()\n",
    "\n",
    "    currency_data.reset_index(inplace = True)\n",
    "\n",
    "    currency_data.rename(columns = {'currencyCode':'code','iso2Code':'countryIso2code' }, inplace = True)\n",
    "\n",
    "    currency_data['countryIso2code'] = [','.join(i) if isinstance(i, list) else i for i in currency_data['countryIso2code']]\n",
    "    \n",
    "    currency_data = currency_data.reset_index().rename(columns={'index':'id'})\n",
    "    \n",
    "    currency_data = (currency_data.set_index(['id', 'countryIso2code']).apply(lambda x: x.str.split(',').explode()).reset_index())\n",
    "\n",
    "    currency_data = currency_data[currency_data['code']!='']\n",
    "    \n",
    "    currency_data.drop(['id'], axis=1, inplace = True)\n",
    "    \n",
    "    currency_data = currency_data.reset_index().rename(columns={'index':'id'})\n",
    "    \n",
    "    fields = ['id', 'code', 'countryIso2code']\n",
    "    \n",
    "    currency_data = currency_data[fields]\n",
    "    \n",
    "    return currency_data"
   ]
  },
  {
   "cell_type": "markdown",
   "id": "a63bed13",
   "metadata": {},
   "source": [
    "#### Testing Function "
   ]
  },
  {
   "cell_type": "code",
   "execution_count": 10,
   "id": "cae00403",
   "metadata": {
    "scrolled": true,
    "tags": []
   },
   "outputs": [
    {
     "data": {
      "text/html": [
       "<div>\n",
       "<style scoped>\n",
       "    .dataframe tbody tr th:only-of-type {\n",
       "        vertical-align: middle;\n",
       "    }\n",
       "\n",
       "    .dataframe tbody tr th {\n",
       "        vertical-align: top;\n",
       "    }\n",
       "\n",
       "    .dataframe thead th {\n",
       "        text-align: right;\n",
       "    }\n",
       "</style>\n",
       "<table border=\"1\" class=\"dataframe\">\n",
       "  <thead>\n",
       "    <tr style=\"text-align: right;\">\n",
       "      <th></th>\n",
       "      <th>id</th>\n",
       "      <th>code</th>\n",
       "      <th>countryIso2code</th>\n",
       "    </tr>\n",
       "  </thead>\n",
       "  <tbody>\n",
       "    <tr>\n",
       "      <th>0</th>\n",
       "      <td>1</td>\n",
       "      <td>AED</td>\n",
       "      <td>AE</td>\n",
       "    </tr>\n",
       "    <tr>\n",
       "      <th>1</th>\n",
       "      <td>2</td>\n",
       "      <td>AFN</td>\n",
       "      <td>AF</td>\n",
       "    </tr>\n",
       "    <tr>\n",
       "      <th>2</th>\n",
       "      <td>3</td>\n",
       "      <td>ALL</td>\n",
       "      <td>AL</td>\n",
       "    </tr>\n",
       "    <tr>\n",
       "      <th>3</th>\n",
       "      <td>4</td>\n",
       "      <td>AMD</td>\n",
       "      <td>AM</td>\n",
       "    </tr>\n",
       "    <tr>\n",
       "      <th>4</th>\n",
       "      <td>5</td>\n",
       "      <td>ANG</td>\n",
       "      <td>CW,SX</td>\n",
       "    </tr>\n",
       "    <tr>\n",
       "      <th>...</th>\n",
       "      <td>...</td>\n",
       "      <td>...</td>\n",
       "      <td>...</td>\n",
       "    </tr>\n",
       "    <tr>\n",
       "      <th>177</th>\n",
       "      <td>178</td>\n",
       "      <td>XOF</td>\n",
       "      <td>BF,BJ,CI,GW,ML,NE,SN,TG</td>\n",
       "    </tr>\n",
       "    <tr>\n",
       "      <th>178</th>\n",
       "      <td>179</td>\n",
       "      <td>XPF</td>\n",
       "      <td>NC,PF,WF</td>\n",
       "    </tr>\n",
       "    <tr>\n",
       "      <th>179</th>\n",
       "      <td>180</td>\n",
       "      <td>YER</td>\n",
       "      <td>YE</td>\n",
       "    </tr>\n",
       "    <tr>\n",
       "      <th>180</th>\n",
       "      <td>181</td>\n",
       "      <td>ZAR</td>\n",
       "      <td>ZA</td>\n",
       "    </tr>\n",
       "    <tr>\n",
       "      <th>181</th>\n",
       "      <td>182</td>\n",
       "      <td>ZMW</td>\n",
       "      <td>ZM</td>\n",
       "    </tr>\n",
       "  </tbody>\n",
       "</table>\n",
       "<p>182 rows × 3 columns</p>\n",
       "</div>"
      ],
      "text/plain": [
       "      id code          countryIso2code\n",
       "0      1  AED                       AE\n",
       "1      2  AFN                       AF\n",
       "2      3  ALL                       AL\n",
       "3      4  AMD                       AM\n",
       "4      5  ANG                    CW,SX\n",
       "..   ...  ...                      ...\n",
       "177  178  XOF  BF,BJ,CI,GW,ML,NE,SN,TG\n",
       "178  179  XPF                 NC,PF,WF\n",
       "179  180  YER                       YE\n",
       "180  181  ZAR                       ZA\n",
       "181  182  ZMW                       ZM\n",
       "\n",
       "[182 rows x 3 columns]"
      ]
     },
     "execution_count": 10,
     "metadata": {},
     "output_type": "execute_result"
    }
   ],
   "source": [
    "# Visualize Currency Table\n",
    "extract_and_transform_currency_data()"
   ]
  },
  {
   "cell_type": "markdown",
   "id": "9372afb9-4eb0-48c8-ae63-d357be92e97c",
   "metadata": {},
   "source": [
    "<hr />"
   ]
  },
  {
   "cell_type": "markdown",
   "id": "9080b577",
   "metadata": {},
   "source": [
    "### SCHEMA DEFINITION\n",
    "- This script below was loaded via **`the terminal`**, using **```mysql -h localhost -u root```***"
   ]
  },
  {
   "cell_type": "code",
   "execution_count": 11,
   "id": "798681c6",
   "metadata": {},
   "outputs": [],
   "source": [
    "from __future__ import print_function\n",
    "\n",
    "import mysql.connector\n",
    "from mysql.connector import errorcode\n",
    "\n",
    "DB_NAME = 'decagon_test_db'\n",
    "\n",
    "TABLES = {}\n",
    "\n",
    "TABLES['countries'] = (\n",
    "  \"CREATE TABLE IF NOT EXISTS `countries` (\"\n",
    "  \"`name` varchar(255) COLLATE utf8mb4_unicode_ci NOT NULL,\"\n",
    "  \"`capital` varchar(255) COLLATE utf8mb4_unicode_ci NOT NULL,\"\n",
    "  \"`nativeName` varchar(255) COLLATE utf8mb4_unicode_ci NULL,\"\n",
    "  \"`iso2Code` varchar(255) NOT NULL,\"\n",
    "  \"`iso3Code` varchar(255) NOT NULL,\"\n",
    "  \"`phoneCode` varchar(255) COLLATE utf8mb4_unicode_ci NOT NULL,\"\n",
    "  \"`currencyCode` varchar(255) COLLATE utf8mb4_unicode_ci NOT NULL,\"\n",
    "  \"`continentCode` varchar(255)COLLATE utf8mb4_unicode_ci NOT NULL,\"\n",
    "  \"`languageCode` varchar(255)COLLATE utf8mb4_unicode_ci NOT NULL,\"\n",
    "  \"PRIMARY KEY (`name`)\"\n",
    "\") ENGINE=InnoDB DEFAULT CHARSET=utf8mb4 COLLATE=utf8mb4_unicode_ci\")\n",
    "\n",
    "\n",
    "TABLES['continents'] = (\n",
    "    \"CREATE TABLE IF NOT EXISTS `continents` (\"\n",
    "      \"`code` varchar(255) NOT NULL,\"\n",
    "      \"`name` varchar(255) COLLATE utf8mb4_unicode_ci NOT NULL,\"\n",
    "      \"PRIMARY KEY (`code`)\"\n",
    "    \") ENGINE=InnoDB DEFAULT CHARSET=utf8mb4 COLLATE=utf8mb4_unicode_ci\")\n",
    "\n",
    "\n",
    "TABLES['currency'] = (\n",
    "    \"CREATE TABLE IF NOT EXISTS `currency` (\"\n",
    "      \"`id` int COLLATE utf8mb4_unicode_ci NOT NULL,\"\n",
    "      \"`code` varchar(5) COLLATE utf8mb4_unicode_ci NOT NULL,\"\n",
    "      \"`countryIso2Code` varchar(255) COLLATE utf8mb4_unicode_ci NULL,\"\n",
    "      \"`description` varchar(255) COLLATE utf8mb4_unicode_ci DEFAULT NULL,\"\n",
    "      \"`symbol` varchar(5) COLLATE utf8mb4_unicode_ci DEFAULT NULL,\"\n",
    "     \" PRIMARY KEY (`id`)\"\n",
    "   \" ) ENGINE=InnoDB DEFAULT CHARSET=utf8mb4 COLLATE=utf8mb4_unicode_ci\")\n",
    "\n",
    "\n",
    "TABLES['languages'] = (\n",
    "    \"CREATE TABLE IF NOT EXISTS `languages` (\"\n",
    "      \"`code` varchar(255) NOT NULL,\"\n",
    "      \"`name` varchar(255) COLLATE utf8mb4_unicode_ci NOT NULL,\"\n",
    "      \"`nativeName` varchar(255) COLLATE utf8mb4_unicode_ci NULL,\"\n",
    "      \"PRIMARY KEY (`code`)\"\n",
    "    \") ENGINE=InnoDB DEFAULT CHARSET=utf8mb4 COLLATE=utf8mb4_unicode_ci\")"
   ]
  },
  {
   "cell_type": "markdown",
   "id": "b72d34a5",
   "metadata": {},
   "source": [
    "### CREATE DATABASE (IF IT DOESN'T EXIST)"
   ]
  },
  {
   "cell_type": "code",
   "execution_count": 12,
   "id": "4a22fbd5",
   "metadata": {},
   "outputs": [
    {
     "name": "stdout",
     "output_type": "stream",
     "text": [
      "Database decagon_test_db does not exists.\n",
      "Database decagon_test_db created successfully.\n"
     ]
    }
   ],
   "source": [
    "cnx = mysql.connector.connect(user='root')\n",
    "cursor = cnx.cursor()\n",
    "\n",
    "def create_database(cursor):\n",
    "    try:\n",
    "        cursor.execute(\n",
    "            \"CREATE DATABASE {} DEFAULT CHARACTER SET 'utf8'\".format(DB_NAME))\n",
    "    except mysql.connector.Error as err:\n",
    "        print(\"Failed creating database: {}\".format(err))\n",
    "        exit(1)\n",
    "\n",
    "try:\n",
    "    cursor.execute(\"USE {}\".format(DB_NAME))\n",
    "except mysql.connector.Error as err:\n",
    "    print(\"Database {} does not exists.\".format(DB_NAME))\n",
    "    if err.errno == errorcode.ER_BAD_DB_ERROR:\n",
    "        create_database(cursor)\n",
    "        print(\"Database {} created successfully.\".format(DB_NAME))\n",
    "        cnx.database = DB_NAME\n",
    "    else:\n",
    "        print(err)\n",
    "        exit(1)"
   ]
  },
  {
   "cell_type": "markdown",
   "id": "ed378e32",
   "metadata": {},
   "source": [
    "### CREATE TABLES (IF THEY DON'T EXIST)"
   ]
  },
  {
   "cell_type": "code",
   "execution_count": 13,
   "id": "af3c2963",
   "metadata": {},
   "outputs": [
    {
     "name": "stdout",
     "output_type": "stream",
     "text": [
      "Creating table countries: OK\n",
      "Creating table continents: OK\n",
      "Creating table currency: OK\n",
      "Creating table languages: OK\n"
     ]
    }
   ],
   "source": [
    "for table_name in TABLES:\n",
    "    table_description = TABLES[table_name]\n",
    "    try:\n",
    "        print(\"Creating table {}: \".format(table_name), end='')\n",
    "        cursor.execute(table_description)\n",
    "    except mysql.connector.Error as err:\n",
    "        if err.errno == errorcode.ER_TABLE_EXISTS_ERROR:\n",
    "            print(\"already exists.\")\n",
    "        else:\n",
    "            print(err.msg)\n",
    "    else:\n",
    "        print(\"OK\")\n",
    "\n",
    "# cursor.close()\n",
    "# cnx.close()"
   ]
  },
  {
   "cell_type": "markdown",
   "id": "5b426681",
   "metadata": {},
   "source": [
    "### LOAD DATA INTO TABLES `L`"
   ]
  },
  {
   "cell_type": "markdown",
   "id": "51718522",
   "metadata": {},
   "source": [
    "#### Load Countries Data into Database Table"
   ]
  },
  {
   "cell_type": "code",
   "execution_count": 14,
   "id": "0a576f37",
   "metadata": {},
   "outputs": [
    {
     "name": "stdout",
     "output_type": "stream",
     "text": [
      "250 Record inserted successfully into countries table\n"
     ]
    }
   ],
   "source": [
    "countries = [tuple(r) for r in extract_and_transform_countries_iso2_to_iso3_data().to_numpy()]\n",
    "\n",
    "try:\n",
    "    \n",
    "    cnx = mysql.connector.connect(user='root')\n",
    "    \n",
    "    cursor = cnx.cursor()\n",
    "\n",
    "    cursor.execute(\"USE {}\".format(DB_NAME))\n",
    "    \n",
    "    countries_insert_query = \"\"\"INSERT INTO countries (name, capital, nativeName,iso2Code, iso3Code, phoneCode, continentCode, currencyCode, languageCode) \n",
    "                               VALUES (%s, %s, %s, %s, %s, %s, %s, %s, %s) \"\"\"\n",
    "\n",
    "    countries_records_to_insert = countries\n",
    "\n",
    "    #     cursor = connection.cursor()\n",
    "    cursor.executemany(countries_insert_query, countries_records_to_insert)\n",
    "    cnx.commit()\n",
    "    print(cursor.rowcount, \"Record inserted successfully into countries table\")\n",
    "\n",
    "except mysql.connector.Error as error:\n",
    "    print(\"Failed to insert countries record into MySQL countries table {}\".format(error))\n"
   ]
  },
  {
   "cell_type": "markdown",
   "id": "8210d6d4",
   "metadata": {},
   "source": [
    "#### Load Continents Data into Database Table"
   ]
  },
  {
   "cell_type": "code",
   "execution_count": 15,
   "id": "45af0814",
   "metadata": {},
   "outputs": [
    {
     "name": "stdout",
     "output_type": "stream",
     "text": [
      "7 Record inserted successfully into continents table\n"
     ]
    }
   ],
   "source": [
    "continents = [tuple(r) for r in extract_and_transform_continents_data().to_numpy()]\n",
    "\n",
    "try:\n",
    "        \n",
    "    continents_insert_query = \"\"\"INSERT INTO continents (code, name) \n",
    "                               VALUES (%s, %s) \"\"\"\n",
    "\n",
    "    continents_records_to_insert = continents\n",
    "\n",
    "    #     cursor = connection.cursor()\n",
    "    cursor.executemany(continents_insert_query, continents_records_to_insert)\n",
    "    cnx.commit()\n",
    "    print(cursor.rowcount, \"Record inserted successfully into continents table\")\n",
    "\n",
    "except mysql.connector.Error as error:\n",
    "    print(\"Failed to insert continents record into MySQL continents table {}\".format(error))   "
   ]
  },
  {
   "cell_type": "markdown",
   "id": "0362c327",
   "metadata": {},
   "source": [
    "#### Load Languages Data into Database Table"
   ]
  },
  {
   "cell_type": "code",
   "execution_count": 16,
   "id": "0230e676",
   "metadata": {},
   "outputs": [
    {
     "name": "stdout",
     "output_type": "stream",
     "text": [
      "185 Record inserted successfully into languages table\n"
     ]
    }
   ],
   "source": [
    "languages = [tuple(r) for r in extract_and_transform_language_data().to_numpy()]\n",
    "\n",
    "try:\n",
    "        \n",
    "    languages_insert_query = \"\"\"INSERT INTO languages (code, name, nativeName) \n",
    "                               VALUES (%s, %s, %s) \"\"\"\n",
    "\n",
    "    languages_records_to_insert = languages\n",
    "\n",
    "    #     cursor = connection.cursor()\n",
    "    cursor.executemany(languages_insert_query, languages_records_to_insert)\n",
    "    cnx.commit()\n",
    "    print(cursor.rowcount, \"Record inserted successfully into languages table\")\n",
    "\n",
    "except mysql.connector.Error as error:\n",
    "    print(\"Failed to insert languages record into MySQL languages table {}\".format(error))     "
   ]
  },
  {
   "cell_type": "markdown",
   "id": "5aef6fe8-a4a1-48c5-9ed0-3abda30550af",
   "metadata": {},
   "source": [
    "#### Load Currency Data into Database Table"
   ]
  },
  {
   "cell_type": "code",
   "execution_count": 17,
   "id": "d567e635-9677-4a48-b634-b25b8fc403da",
   "metadata": {},
   "outputs": [
    {
     "name": "stdout",
     "output_type": "stream",
     "text": [
      "182 Record inserted successfully into currency table\n"
     ]
    }
   ],
   "source": [
    "currency = [tuple(r) for r in extract_and_transform_currency_data().to_numpy()]\n",
    "\n",
    "try:\n",
    "        \n",
    "    currency_insert_query = \"\"\"INSERT INTO currency (id, code, countryIso2Code) \n",
    "                               VALUES (%s, %s, %s ) \"\"\"\n",
    "\n",
    "    currency_records_to_insert = currency\n",
    "\n",
    "    #     cursor = connection.cursor()\n",
    "    cursor.executemany(currency_insert_query, currency_records_to_insert)\n",
    "    cnx.commit()\n",
    "    print(cursor.rowcount, \"Record inserted successfully into currency table\")\n",
    "\n",
    "except mysql.connector.Error as error:\n",
    "    print(\"Failed to insert currency record into MySQL currency table {}\".format(error))     "
   ]
  },
  {
   "cell_type": "markdown",
   "id": "46688884-179a-4647-b59c-d4815c3e95a2",
   "metadata": {},
   "source": [
    "<hr />"
   ]
  },
  {
   "cell_type": "markdown",
   "id": "6cd4ff66",
   "metadata": {},
   "source": [
    "### ANSWER TO QUESTIONS"
   ]
  },
  {
   "cell_type": "markdown",
   "id": "e7ff4013",
   "metadata": {},
   "source": [
    "#### Question 1\n",
    "- List all the continents and the total number of countries in each"
   ]
  },
  {
   "cell_type": "code",
   "execution_count": 18,
   "id": "99883749",
   "metadata": {},
   "outputs": [
    {
     "data": {
      "text/html": [
       "<div>\n",
       "<style scoped>\n",
       "    .dataframe tbody tr th:only-of-type {\n",
       "        vertical-align: middle;\n",
       "    }\n",
       "\n",
       "    .dataframe tbody tr th {\n",
       "        vertical-align: top;\n",
       "    }\n",
       "\n",
       "    .dataframe thead th {\n",
       "        text-align: right;\n",
       "    }\n",
       "</style>\n",
       "<table border=\"1\" class=\"dataframe\">\n",
       "  <thead>\n",
       "    <tr style=\"text-align: right;\">\n",
       "      <th></th>\n",
       "      <th>Continent</th>\n",
       "      <th>Country Count</th>\n",
       "    </tr>\n",
       "  </thead>\n",
       "  <tbody>\n",
       "    <tr>\n",
       "      <th>0</th>\n",
       "      <td>Africa</td>\n",
       "      <td>58</td>\n",
       "    </tr>\n",
       "    <tr>\n",
       "      <th>1</th>\n",
       "      <td>Antarctica</td>\n",
       "      <td>5</td>\n",
       "    </tr>\n",
       "    <tr>\n",
       "      <th>2</th>\n",
       "      <td>Asia</td>\n",
       "      <td>52</td>\n",
       "    </tr>\n",
       "    <tr>\n",
       "      <th>3</th>\n",
       "      <td>Europe</td>\n",
       "      <td>53</td>\n",
       "    </tr>\n",
       "    <tr>\n",
       "      <th>4</th>\n",
       "      <td>North America</td>\n",
       "      <td>41</td>\n",
       "    </tr>\n",
       "    <tr>\n",
       "      <th>5</th>\n",
       "      <td>Oceania</td>\n",
       "      <td>27</td>\n",
       "    </tr>\n",
       "    <tr>\n",
       "      <th>6</th>\n",
       "      <td>South America</td>\n",
       "      <td>14</td>\n",
       "    </tr>\n",
       "  </tbody>\n",
       "</table>\n",
       "</div>"
      ],
      "text/plain": [
       "       Continent  Country Count\n",
       "0         Africa             58\n",
       "1     Antarctica              5\n",
       "2           Asia             52\n",
       "3         Europe             53\n",
       "4  North America             41\n",
       "5        Oceania             27\n",
       "6  South America             14"
      ]
     },
     "execution_count": 18,
     "metadata": {},
     "output_type": "execute_result"
    }
   ],
   "source": [
    "QUERY = \"\"\"select a.name as Continent, count(b.name) as 'Country Count' from continents a left join countries b on a.code = b.continentCode group by a.name\"\"\"\n",
    "\n",
    "cursor.execute(QUERY)\n",
    "a = cursor.fetchall()\n",
    "\n",
    "ANSWER1 = pd.DataFrame(a, columns =['Continent', 'Country Count'])\n",
    "ANSWER1"
   ]
  },
  {
   "cell_type": "markdown",
   "id": "e3093b9d",
   "metadata": {},
   "source": [
    "#### Question 2\n",
    "- List all the languages and commas separated countries that speak the language."
   ]
  },
  {
   "cell_type": "code",
   "execution_count": 19,
   "id": "f450ea00",
   "metadata": {},
   "outputs": [
    {
     "data": {
      "text/html": [
       "<div>\n",
       "<style scoped>\n",
       "    .dataframe tbody tr th:only-of-type {\n",
       "        vertical-align: middle;\n",
       "    }\n",
       "\n",
       "    .dataframe tbody tr th {\n",
       "        vertical-align: top;\n",
       "    }\n",
       "\n",
       "    .dataframe thead th {\n",
       "        text-align: right;\n",
       "    }\n",
       "</style>\n",
       "<table border=\"1\" class=\"dataframe\">\n",
       "  <thead>\n",
       "    <tr style=\"text-align: right;\">\n",
       "      <th></th>\n",
       "      <th>Language</th>\n",
       "      <th>Countries</th>\n",
       "    </tr>\n",
       "  </thead>\n",
       "  <tbody>\n",
       "    <tr>\n",
       "      <th>0</th>\n",
       "      <td>None</td>\n",
       "      <td>Antarctica</td>\n",
       "    </tr>\n",
       "    <tr>\n",
       "      <th>1</th>\n",
       "      <td>Afrikaans</td>\n",
       "      <td>Namibia,South Africa</td>\n",
       "    </tr>\n",
       "    <tr>\n",
       "      <th>2</th>\n",
       "      <td>Albanian</td>\n",
       "      <td>Albania,Kosovo,Montenegro</td>\n",
       "    </tr>\n",
       "    <tr>\n",
       "      <th>3</th>\n",
       "      <td>Amharic</td>\n",
       "      <td>Ethiopia</td>\n",
       "    </tr>\n",
       "    <tr>\n",
       "      <th>4</th>\n",
       "      <td>Arabic</td>\n",
       "      <td>Algeria,Bahrain,Chad,Comoros,Djibouti,Egypt,Er...</td>\n",
       "    </tr>\n",
       "    <tr>\n",
       "      <th>...</th>\n",
       "      <td>...</td>\n",
       "      <td>...</td>\n",
       "    </tr>\n",
       "    <tr>\n",
       "      <th>104</th>\n",
       "      <td>Turkmen</td>\n",
       "      <td>Turkmenistan,Afghanistan</td>\n",
       "    </tr>\n",
       "    <tr>\n",
       "      <th>105</th>\n",
       "      <td>Ukrainian</td>\n",
       "      <td>Ukraine</td>\n",
       "    </tr>\n",
       "    <tr>\n",
       "      <th>106</th>\n",
       "      <td>Urdu</td>\n",
       "      <td>Fiji,Pakistan</td>\n",
       "    </tr>\n",
       "    <tr>\n",
       "      <th>107</th>\n",
       "      <td>Uzbek</td>\n",
       "      <td>Afghanistan,Uzbekistan</td>\n",
       "    </tr>\n",
       "    <tr>\n",
       "      <th>108</th>\n",
       "      <td>Vietnamese</td>\n",
       "      <td>Vietnam</td>\n",
       "    </tr>\n",
       "  </tbody>\n",
       "</table>\n",
       "<p>109 rows × 2 columns</p>\n",
       "</div>"
      ],
      "text/plain": [
       "       Language                                          Countries\n",
       "0          None                                         Antarctica\n",
       "1     Afrikaans                               Namibia,South Africa\n",
       "2      Albanian                          Albania,Kosovo,Montenegro\n",
       "3       Amharic                                           Ethiopia\n",
       "4        Arabic  Algeria,Bahrain,Chad,Comoros,Djibouti,Egypt,Er...\n",
       "..          ...                                                ...\n",
       "104     Turkmen                           Turkmenistan,Afghanistan\n",
       "105   Ukrainian                                            Ukraine\n",
       "106        Urdu                                      Fiji,Pakistan\n",
       "107       Uzbek                             Afghanistan,Uzbekistan\n",
       "108  Vietnamese                                            Vietnam\n",
       "\n",
       "[109 rows x 2 columns]"
      ]
     },
     "execution_count": 19,
     "metadata": {},
     "output_type": "execute_result"
    }
   ],
   "source": [
    "QUERY = \"\"\"\n",
    "            with language_country_data as (\n",
    "                SELECT\n",
    "                  countries.name,\n",
    "                  SUBSTRING_INDEX(SUBSTRING_INDEX(countries.languageCode, ',', numbers.n), ',', -1) languageCode\n",
    "                FROM\n",
    "                  (SELECT 1 n UNION ALL SELECT 2\n",
    "                   UNION ALL SELECT 3 UNION ALL SELECT 4) numbers INNER JOIN countries\n",
    "                  ON CHAR_LENGTH(countries.languageCode)\n",
    "                     -CHAR_LENGTH(REPLACE(countries.languageCode, ',', ''))>=numbers.n-1\n",
    "                ORDER BY\n",
    "                  name, n)\n",
    "\n",
    "                select \n",
    "                    b.name as 'Language', \n",
    "                    group_concat(a.name) as Countries\n",
    "                from language_country_data a \n",
    "                left join languages b on a.languageCode = b.code\n",
    "                group by b.name\n",
    "\n",
    "        \"\"\"\n",
    "\n",
    "cursor.execute(QUERY)\n",
    "a = cursor.fetchall()\n",
    "\n",
    "ANSWER2 = pd.DataFrame(a, columns =['Language', 'Countries'])\n",
    "ANSWER2"
   ]
  },
  {
   "cell_type": "markdown",
   "id": "1cefc823",
   "metadata": {},
   "source": [
    "#### Question 3\n",
    "- List all the countries and the total number of languages spoken."
   ]
  },
  {
   "cell_type": "code",
   "execution_count": 20,
   "id": "115e063d",
   "metadata": {},
   "outputs": [
    {
     "data": {
      "text/html": [
       "<div>\n",
       "<style scoped>\n",
       "    .dataframe tbody tr th:only-of-type {\n",
       "        vertical-align: middle;\n",
       "    }\n",
       "\n",
       "    .dataframe tbody tr th {\n",
       "        vertical-align: top;\n",
       "    }\n",
       "\n",
       "    .dataframe thead th {\n",
       "        text-align: right;\n",
       "    }\n",
       "</style>\n",
       "<table border=\"1\" class=\"dataframe\">\n",
       "  <thead>\n",
       "    <tr style=\"text-align: right;\">\n",
       "      <th></th>\n",
       "      <th>Country</th>\n",
       "      <th>Lng Count</th>\n",
       "    </tr>\n",
       "  </thead>\n",
       "  <tbody>\n",
       "    <tr>\n",
       "      <th>0</th>\n",
       "      <td>Afghanistan</td>\n",
       "      <td>3</td>\n",
       "    </tr>\n",
       "    <tr>\n",
       "      <th>1</th>\n",
       "      <td>Åland</td>\n",
       "      <td>1</td>\n",
       "    </tr>\n",
       "    <tr>\n",
       "      <th>2</th>\n",
       "      <td>Albania</td>\n",
       "      <td>1</td>\n",
       "    </tr>\n",
       "    <tr>\n",
       "      <th>3</th>\n",
       "      <td>Algeria</td>\n",
       "      <td>1</td>\n",
       "    </tr>\n",
       "    <tr>\n",
       "      <th>4</th>\n",
       "      <td>American Samoa</td>\n",
       "      <td>2</td>\n",
       "    </tr>\n",
       "    <tr>\n",
       "      <th>...</th>\n",
       "      <td>...</td>\n",
       "      <td>...</td>\n",
       "    </tr>\n",
       "    <tr>\n",
       "      <th>245</th>\n",
       "      <td>Wallis and Futuna</td>\n",
       "      <td>1</td>\n",
       "    </tr>\n",
       "    <tr>\n",
       "      <th>246</th>\n",
       "      <td>Western Sahara</td>\n",
       "      <td>1</td>\n",
       "    </tr>\n",
       "    <tr>\n",
       "      <th>247</th>\n",
       "      <td>Yemen</td>\n",
       "      <td>1</td>\n",
       "    </tr>\n",
       "    <tr>\n",
       "      <th>248</th>\n",
       "      <td>Zambia</td>\n",
       "      <td>1</td>\n",
       "    </tr>\n",
       "    <tr>\n",
       "      <th>249</th>\n",
       "      <td>Zimbabwe</td>\n",
       "      <td>3</td>\n",
       "    </tr>\n",
       "  </tbody>\n",
       "</table>\n",
       "<p>250 rows × 2 columns</p>\n",
       "</div>"
      ],
      "text/plain": [
       "               Country  Lng Count\n",
       "0          Afghanistan          3\n",
       "1                Åland          1\n",
       "2              Albania          1\n",
       "3              Algeria          1\n",
       "4       American Samoa          2\n",
       "..                 ...        ...\n",
       "245  Wallis and Futuna          1\n",
       "246     Western Sahara          1\n",
       "247              Yemen          1\n",
       "248             Zambia          1\n",
       "249           Zimbabwe          3\n",
       "\n",
       "[250 rows x 2 columns]"
      ]
     },
     "execution_count": 20,
     "metadata": {},
     "output_type": "execute_result"
    }
   ],
   "source": [
    "QUERY = \"\"\"SELECT name as Country, LENGTH(languageCode) - LENGTH(REPLACE(languageCode, ',','')) +1 as 'Lng Count' FROM countries\"\"\"\n",
    "\n",
    "cursor.execute(QUERY)\n",
    "b = cursor.fetchall()\n",
    "\n",
    "ANSWER2 = pd.DataFrame(b, columns =['Country', 'Lng Count'])\n",
    "ANSWER2"
   ]
  },
  {
   "cell_type": "markdown",
   "id": "7b6bb721",
   "metadata": {},
   "source": [
    "##### Close Database Connection\n"
   ]
  },
  {
   "cell_type": "code",
   "execution_count": 21,
   "id": "72a9eb79",
   "metadata": {},
   "outputs": [
    {
     "name": "stdout",
     "output_type": "stream",
     "text": [
      "MySQL connection is closed\n"
     ]
    }
   ],
   "source": [
    "if (cnx.is_connected()):\n",
    "    cursor.close()\n",
    "    cnx.close()\n",
    "    print(\"MySQL connection is closed\")"
   ]
  },
  {
   "cell_type": "markdown",
   "id": "43da9c8e-20a3-4941-a0e3-1d09692734ad",
   "metadata": {},
   "source": [
    "<hr />"
   ]
  },
  {
   "cell_type": "markdown",
   "id": "45bb1fd8",
   "metadata": {
    "tags": []
   },
   "source": [
    "#### PROJECT FLOW\n",
    "\n",
    "- `Extract` Data from Source, `Transform` and `Load` to MySQL Database\n",
    "    - Extract Using Python\n",
    "    - Initial Transform Using Python\n",
    "    - Loading Using Python with SQL  <br>\n",
    "- Report Generation using MySQL\n",
    "\n",
    "\n",
    "##### DISCLAIMER\n",
    "\n",
    "- In a real-world project, I would enrich these datasets (esp. the language and currency data). <br /> However, this flow was created within the scope of the data provided.\n",
    "\n",
    "- There are a number of ways I would have fiurther ckeaned the data to make for a great database design, but I'm out of Time Now."
   ]
  },
  {
   "cell_type": "code",
   "execution_count": null,
   "id": "07a47497-0b33-4846-9d4c-15a946bada0e",
   "metadata": {},
   "outputs": [],
   "source": []
  }
 ],
 "metadata": {
  "kernelspec": {
   "display_name": "dev_env",
   "language": "python",
   "name": "dev_env"
  },
  "language_info": {
   "codemirror_mode": {
    "name": "ipython",
    "version": 3
   },
   "file_extension": ".py",
   "mimetype": "text/x-python",
   "name": "python",
   "nbconvert_exporter": "python",
   "pygments_lexer": "ipython3",
   "version": "3.9.7"
  }
 },
 "nbformat": 4,
 "nbformat_minor": 5
}
